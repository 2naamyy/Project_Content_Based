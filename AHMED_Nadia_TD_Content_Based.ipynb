{
 "cells": [
  {
   "cell_type": "markdown",
   "metadata": {},
   "source": [
    "Nadia AHMED"
   ]
  },
  {
   "cell_type": "markdown",
   "metadata": {},
   "source": [
    "# RECHERCHE D'INFORMATION ET RECOMMANDATION"
   ]
  },
  {
   "cell_type": "markdown",
   "metadata": {},
   "source": [
    "## TD Collaborative Filtering"
   ]
  },
  {
   "cell_type": "markdown",
   "metadata": {},
   "source": [
    "### 1. Chargement des données"
   ]
  },
  {
   "cell_type": "code",
   "execution_count": null,
   "metadata": {},
   "outputs": [],
   "source": [
    "import pandas as pd\n",
    "\n",
    "movies = pd.read_csv('movies.csv')"
   ]
  },
  {
   "cell_type": "markdown",
   "metadata": {},
   "source": [
    "### 2. Création un vecteur de caractéristiques pour chaque film basé sur les genres"
   ]
  },
  {
   "cell_type": "code",
   "execution_count": null,
   "metadata": {},
   "outputs": [],
   "source": [
    "genre_vectors = pd.get_dummies(movies['genres'].str.split('|', expand=True)).values"
   ]
  },
  {
   "cell_type": "markdown",
   "metadata": {},
   "source": [
    "### 3. Création d'une fonction de recommandation pour un utilisateur donné"
   ]
  },
  {
   "cell_type": "code",
   "execution_count": 13,
   "metadata": {},
   "outputs": [],
   "source": [
    "from sklearn.metrics.pairwise import cosine_similarity\n",
    "\n",
    "def recommend_movies(user_id):\n",
    "    # Supposons que l'utilisateur a déjà regardé les films avec les IDs 1, 5 et 10\n",
    "    movies_watched = [1, 5, 10]\n",
    "    \n",
    "    # Création du vecteur de caractéristiques de l'utilisateur \n",
    "    user_features = genre_vectors[movies_watched].sum(axis=0)\n",
    "    \n",
    "    # Calcul de la similarité cosinus entre le vecteur de l'utilisateur et tous les autres films\n",
    "    similarities = cosine_similarity([user_features], genre_vectors).flatten()\n",
    "    similar_movies_indices = similarities.argsort()[::-1]\n",
    "   \n",
    "    recommended_movies = []\n",
    "    for idx in similar_movies_indices:\n",
    "        movie_id = movies.iloc[idx]['movieId']\n",
    "        if movie_id not in movies_watched:\n",
    "            recommended_movies.append(movies.iloc[idx]['title'])\n",
    "        if len(recommended_movies) >= 10:\n",
    "            break\n",
    "    \n",
    "    return movies[movies['title'].isin(recommended_movies)][['movieId', 'title']]"
   ]
  },
  {
   "cell_type": "markdown",
   "metadata": {},
   "source": [
    "### 5. Recommandation de film pour un utilisateur donné (ici c'est pour l'utilisateur 1)"
   ]
  },
  {
   "cell_type": "code",
   "execution_count": 14,
   "metadata": {},
   "outputs": [
    {
     "name": "stdout",
     "output_type": "stream",
     "text": [
      "      movieId                             title\n",
      "278       319              Shallow Grave (1994)\n",
      "1137     1488           Devil's Own, The (1997)\n",
      "1146     1500        Grosse Pointe Blank (1997)\n",
      "5343     8908                  Ladder 49 (2004)\n",
      "7485    82499            How Do You Know (2010)\n",
      "7604    86817         Something Borrowed (2011)\n",
      "7730    90600  Headhunters (Hodejegerne) (2011)\n",
      "8404   110501       The Raid 2: Berandal (2014)\n",
      "9308   159193               Café Society (2016)\n",
      "9310   159415             Swiss Army Man (2016)\n"
     ]
    }
   ],
   "source": [
    "user_id = 1\n",
    "recommended_movies = recommend_movies(user_id)\n",
    "print(recommended_movies)"
   ]
  },
  {
   "cell_type": "code",
   "execution_count": null,
   "metadata": {},
   "outputs": [],
   "source": []
  }
 ],
 "metadata": {
  "kernelspec": {
   "display_name": "Tp1",
   "language": "python",
   "name": "tp1"
  },
  "language_info": {
   "codemirror_mode": {
    "name": "ipython",
    "version": 3
   },
   "file_extension": ".py",
   "mimetype": "text/x-python",
   "name": "python",
   "nbconvert_exporter": "python",
   "pygments_lexer": "ipython3",
   "version": "3.9.13"
  }
 },
 "nbformat": 4,
 "nbformat_minor": 4
}
